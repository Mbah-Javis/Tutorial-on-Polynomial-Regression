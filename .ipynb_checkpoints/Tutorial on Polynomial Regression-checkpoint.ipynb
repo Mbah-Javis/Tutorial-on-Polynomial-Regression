{
 "cells": [
  {
   "cell_type": "markdown",
   "metadata": {},
   "source": [
    "<h3>Welcome to this notebook Tutorial</h3>\n",
    "<p>In this notebook tutorial, we are going to be talking about <strong>Polynomial Regression.</strong> The questions you would probably be asking your self now is \"What is Polynomial Regression?\" and \"Where it can be used?\". Firstly, we will start with the first question</p>\n",
    "<h3>What is Polynomial Regression?</h3>\n",
    "  <p><strong>Polynomial Regression</strong> is a in Machine Learning Regression Algorithm which we can say is an extension of Linear Regression. Let me add more ligth to it by giving you a small intro on Linear regression so that it will help you understand what polynomial regression is all about. Linear Regression is a regression algorithm which is of two types that is <strong>Simple linear Regression</strong> and <strong>Multiple Linear Regression.</strong> This two linear regressions model requirs the relationhip existing between two indepedent variables to be linear. So if the distribution of data is not linear in nature and is more complex than expected, Polynomial regression now comes in so as to help us capture data from the none linear model and use it to train our a new model with it.</p>"
   ]
  },
  {
   "cell_type": "markdown",
   "metadata": {},
   "source": [
    "Linear regression has the following mathematical equations:\n",
    "    <p>Simple linear regression has the equation <strong><code> y = a0 + a1 * X1 </code></strong> and</p> \n",
    "Multiple linear regression has the equation <strong><code> y = a0 + a1 * X1 + a2 * X2 + a3 * X3 +..+ an * Xn </code></strong>\n",
    "<p>Here we have seen that there are indepedent variables like X1, X2, X3...Xn as required</p>"
   ]
  },
  {
   "cell_type": "markdown",
   "metadata": {},
   "source": [
    "<p>As earlier said that Polynomial regression is an extension of linear regression, its own equation will look similar to that of linear regression. This is the equation<strong><code> y = a0 + a1 * X1 + a2 * X1^2 + a3 * X1^3 +..+ an * X1^n </code></strong><p>Now we have seen that instead of the indepedent variables, we have X1 in the place of other variables and a power value added to it which coresponds to the variable number for example X2 in linear regression is represented as X1^2 in Polynomial regression and this continues to Xn represented as X1^n.<p></p>\n",
    "With that said, we move on to the next question which is:\n",
    "\n",
    "<h3>Where it can be used?</h3>\n",
    "<p>Polynomial Regression can be used on a variety of cases. For example lets say in a situation where we have to find out the growth rate of a disease epidemic in a country or world, we can use Polynomial regression to come out with the results. There are many other cases that was just an example.</p>"
   ]
  },
  {
   "cell_type": "markdown",
   "metadata": {},
   "source": [
    "<p>Now that we have understood what Polynomial Regression is all about, we will now build a polynomial regression machine learning model in python</p> "
   ]
  },
  {
   "cell_type": "markdown",
   "metadata": {},
   "source": [
    "1. We will import all the needed libaries"
   ]
  },
  {
   "cell_type": "code",
   "execution_count": 2,
   "metadata": {},
   "outputs": [],
   "source": [
    "import numpy as np\n",
    "import pandas as pd\n",
    "import matplotlib.pyplot as plt\n",
    "from sklearn.preprocessing import PolynomialFeatures\n",
    "from sklearn.linear_model import LinearRegression"
   ]
  },
  {
   "cell_type": "markdown",
   "metadata": {},
   "source": [
    "Now that our libaries have been imported, we are going to first make our polynomial regression model out of random data then later on, we will use data from an excel file. With this random data, we will see clearly what is over fitting and while we should avoid it so that we will not over fit our model in the second one which we will be using a sample company dataset "
   ]
  },
  {
   "cell_type": "code",
   "execution_count": 54,
   "metadata": {},
   "outputs": [],
   "source": [
    "#This is our random data\n",
    "x = np.array([-1.0, -0.30, -0.35, 0.0,  1.0,  2.0, 3.0, 4.0 ])\n",
    "y = np.array([0.0, 0.8, 0.9, 0.1, -0.8, -1.0, 0.8, 0.50])"
   ]
  },
  {
   "cell_type": "code",
   "execution_count": 55,
   "metadata": {},
   "outputs": [],
   "source": [
    "#reshaping our data\n",
    "x = x.reshape(-1, 1)"
   ]
  },
  {
   "cell_type": "markdown",
   "metadata": {},
   "source": [
    "After reshaping our data, we will create our Polynomial variable and specify the order of the polynomial. Setting the degree value which is the order to 8 for this our random data will over fit the model which is not good. But we will set it so that you can see. Later on i will explain why over fitting is not good. <p>On the other hand, if we set the degree value to let say 1, it will cause under fitting and our regression line will be a straight line which means that our model does not understand our input data so we need to avoid under fitting and over fitting</p> "
   ]
  },
  {
   "cell_type": "code",
   "execution_count": 98,
   "metadata": {},
   "outputs": [],
   "source": [
    "#polynomial variable\n",
    "poly = PolynomialFeatures(degree=8)"
   ]
  },
  {
   "cell_type": "code",
   "execution_count": 99,
   "metadata": {},
   "outputs": [
    {
     "data": {
      "text/plain": [
       "PolynomialFeatures(degree=8, include_bias=True, interaction_only=False,\n",
       "                   order='C')"
      ]
     },
     "execution_count": 99,
     "metadata": {},
     "output_type": "execute_result"
    }
   ],
   "source": [
    "#Transform the x values into another x dataset\n",
    "x_poly1 = poly.fit_transform(x)\n",
    "\n",
    "#fitting the data into the model\n",
    "poly.fit(x_poly1, y)"
   ]
  },
  {
   "cell_type": "markdown",
   "metadata": {},
   "source": [
    "Now we create our linear regression model which will help us in creating our regression line from its prediction"
   ]
  },
  {
   "cell_type": "code",
   "execution_count": 100,
   "metadata": {},
   "outputs": [],
   "source": [
    "#linear regression model\n",
    "linearReg1 = LinearRegression()\n",
    "\n",
    "#fitting the data into the model\n",
    "linearReg1.fit(x_poly1, y)\n",
    "\n",
    "y_predict1 = linearReg1.predict(x_poly1)"
   ]
  },
  {
   "cell_type": "markdown",
   "metadata": {},
   "source": [
    "And finaly we plot our data on a graph with a regression line"
   ]
  },
  {
   "cell_type": "code",
   "execution_count": 101,
   "metadata": {},
   "outputs": [
    {
     "data": {
      "text/plain": [
       "[<matplotlib.lines.Line2D at 0xb9b8532408>]"
      ]
     },
     "execution_count": 101,
     "metadata": {},
     "output_type": "execute_result"
    },
    {
     "data": {
      "image/png": "[encoded data removed]",
      "text/plain": [
       "<Figure size 432x288 with 1 Axes>"
      ]
     },
     "metadata": {
      "needs_background": "light"
     },
     "output_type": "display_data"
    }
   ],
   "source": [
    "plt.plot(x, y, 'o')\n",
    "plt.plot(x, y_predict1, color='purple')"
   ]
  },
  {
   "cell_type": "markdown",
   "metadata": {},
   "source": [
    "From the above output, we see that our model was over fitted. The reason why we is should avoid over fitting is because if we over fit our model, it will not be able to predict new values from another set of data because it matches our present data so closely. So to change our model from being an over fitted model to a \"Good\" model we need to reduce the degree to let say 4"
   ]
  },
  {
   "cell_type": "markdown",
   "metadata": {},
   "source": [
    "<h3>Working now on data from a dataset</h3>\n",
    "<p>As i earlier said that we were going to work on random data before using data from a dataset so that you will understand  how it works before we switch to data from a dataset.</p>\n",
    "<p>Now that you have understood everything from above, we will not waste time explaining the same thing down here again</p>"
   ]
  },
  {
   "cell_type": "code",
   "execution_count": 89,
   "metadata": {},
   "outputs": [],
   "source": [
    "#Reading our data from the excel dataset file using pandas libary\n",
    "dataset = pd.read_excel(r'Position_Salaries.xlsx')"
   ]
  },
  {
   "cell_type": "code",
   "execution_count": 91,
   "metadata": {},
   "outputs": [
    {
     "data": {
      "text/html": [
       "<div>\n",
       "<style scoped>\n",
       "    .dataframe tbody tr th:only-of-type {\n",
       "        vertical-align: middle;\n",
       "    }\n",
       "\n",
       "    .dataframe tbody tr th {\n",
       "        vertical-align: top;\n",
       "    }\n",
       "\n",
       "    .dataframe thead th {\n",
       "        text-align: right;\n",
       "    }\n",
       "</style>\n",
       "<table border=\"1\" class=\"dataframe\">\n",
       "  <thead>\n",
       "    <tr style=\"text-align: right;\">\n",
       "      <th></th>\n",
       "      <th>Position</th>\n",
       "      <th>Level</th>\n",
       "      <th>Salary</th>\n",
       "    </tr>\n",
       "  </thead>\n",
       "  <tbody>\n",
       "    <tr>\n",
       "      <th>0</th>\n",
       "      <td>Business Analyst</td>\n",
       "      <td>1</td>\n",
       "      <td>45000</td>\n",
       "    </tr>\n",
       "    <tr>\n",
       "      <th>1</th>\n",
       "      <td>Junior Consultant</td>\n",
       "      <td>2</td>\n",
       "      <td>50000</td>\n",
       "    </tr>\n",
       "    <tr>\n",
       "      <th>2</th>\n",
       "      <td>Senior Consultant</td>\n",
       "      <td>3</td>\n",
       "      <td>60000</td>\n",
       "    </tr>\n",
       "    <tr>\n",
       "      <th>3</th>\n",
       "      <td>Manager</td>\n",
       "      <td>4</td>\n",
       "      <td>80000</td>\n",
       "    </tr>\n",
       "    <tr>\n",
       "      <th>4</th>\n",
       "      <td>Country Manager</td>\n",
       "      <td>5</td>\n",
       "      <td>110000</td>\n",
       "    </tr>\n",
       "    <tr>\n",
       "      <th>5</th>\n",
       "      <td>Region Manager</td>\n",
       "      <td>6</td>\n",
       "      <td>150000</td>\n",
       "    </tr>\n",
       "    <tr>\n",
       "      <th>6</th>\n",
       "      <td>Partner</td>\n",
       "      <td>7</td>\n",
       "      <td>200000</td>\n",
       "    </tr>\n",
       "    <tr>\n",
       "      <th>7</th>\n",
       "      <td>Senior Partner</td>\n",
       "      <td>8</td>\n",
       "      <td>300000</td>\n",
       "    </tr>\n",
       "    <tr>\n",
       "      <th>8</th>\n",
       "      <td>C-level</td>\n",
       "      <td>9</td>\n",
       "      <td>500000</td>\n",
       "    </tr>\n",
       "    <tr>\n",
       "      <th>9</th>\n",
       "      <td>CEO</td>\n",
       "      <td>10</td>\n",
       "      <td>1000000</td>\n",
       "    </tr>\n",
       "  </tbody>\n",
       "</table>\n",
       "</div>"
      ],
      "text/plain": [
       "            Position  Level   Salary\n",
       "0   Business Analyst      1    45000\n",
       "1  Junior Consultant      2    50000\n",
       "2  Senior Consultant      3    60000\n",
       "3            Manager      4    80000\n",
       "4    Country Manager      5   110000\n",
       "5     Region Manager      6   150000\n",
       "6            Partner      7   200000\n",
       "7     Senior Partner      8   300000\n",
       "8            C-level      9   500000\n",
       "9                CEO     10  1000000"
      ]
     },
     "execution_count": 91,
     "metadata": {},
     "output_type": "execute_result"
    }
   ],
   "source": [
    "#This is to see the the structure and data from the dataset file\n",
    "dataset"
   ]
  },
  {
   "cell_type": "code",
   "execution_count": 92,
   "metadata": {},
   "outputs": [
    {
     "data": {
      "text/plain": [
       "[<matplotlib.lines.Line2D at 0xb9b8414288>]"
      ]
     },
     "execution_count": 92,
     "metadata": {},
     "output_type": "execute_result"
    },
    {
     "data": {
      "image/png": "[encoded data removed]",
      "text/plain": [
       "<Figure size 432x288 with 1 Axes>"
      ]
     },
     "metadata": {
      "needs_background": "light"
     },
     "output_type": "display_data"
    }
   ],
   "source": [
    "#Getting the values \n",
    "x_data = dataset['Salary'].values\n",
    "y_data = dataset['Level'].values\n",
    "\n",
    "plt.plot(x_data, y_data, 'o')"
   ]
  },
  {
   "cell_type": "code",
   "execution_count": 95,
   "metadata": {},
   "outputs": [],
   "source": [
    "#reshaping our data\n",
    "x_data = x_data.reshape(-1, 1)"
   ]
  },
  {
   "cell_type": "code",
   "execution_count": 96,
   "metadata": {},
   "outputs": [
    {
     "data": {
      "text/plain": [
       "PolynomialFeatures(degree=2, include_bias=True, interaction_only=False,\n",
       "                   order='C')"
      ]
     },
     "execution_count": 96,
     "metadata": {},
     "output_type": "execute_result"
    }
   ],
   "source": [
    "#polynomial variable\n",
    "poly = PolynomialFeatures(degree=2)\n",
    "\n",
    "x_poly = poly.fit_transform(x_data)\n",
    "poly.fit(x_poly, y_data)"
   ]
  },
  {
   "cell_type": "code",
   "execution_count": 97,
   "metadata": {},
   "outputs": [
    {
     "data": {
      "text/plain": [
       "[<matplotlib.lines.Line2D at 0xb9b8453b88>]"
      ]
     },
     "execution_count": 97,
     "metadata": {},
     "output_type": "execute_result"
    },
    {
     "data": {
      "image/png": "[encoded data removed]",
      "text/plain": [
       "<Figure size 432x288 with 1 Axes>"
      ]
     },
     "metadata": {
      "needs_background": "light"
     },
     "output_type": "display_data"
    }
   ],
   "source": [
    "#linear regression model\n",
    "linearReg = LinearRegression()\n",
    "\n",
    "linearReg.fit(x_poly, y_data)\n",
    "\n",
    "y_predict = linearReg.predict(x_poly)\n",
    "\n",
    "plt.plot(x_data, y_data, 'o')\n",
    "plt.plot(x_data, y_predict, color='orange')"
   ]
  },
  {
   "cell_type": "markdown",
   "metadata": {},
   "source": [
    "<p>From the above output we can see that our model was not over fitted or under fitted which implies that it is a Good model</p>"
   ]
  },
  {
   "cell_type": "markdown",
   "metadata": {},
   "source": [
    "<h3>Conclusion</h3>\n",
    "Below are some points which we could/should note from this tutorial\n",
    "<ul>\n",
    "    <li>That Polynomial Regression is an extension of Linear regression which is used when the relationship between independent variables is not linear</li>\n",
    "    <li>We can also note that it is not good to over fit our model because overfitting a regression model reduces its generalizability outside the original dataset. Which means that our model won't be able to work and give good results on new sets of dataset. Also we should avoid under fitting too.</li>\n",
    "</ul>\n",
    "Hope you Enjoyed this tutoril. Thank you for reading it.\n",
    "<h3>End! of Tutorial</h3>"
   ]
  },
  {
   "cell_type": "code",
   "execution_count": null,
   "metadata": {},
   "outputs": [],
   "source": []
  }
 ],
 "metadata": {
  "kernelspec": {
   "display_name": "Python 3",
   "language": "python",
   "name": "python3"
  },
  "language_info": {
   "codemirror_mode": {
    "name": "ipython",
    "version": 3
   },
   "file_extension": ".py",
   "mimetype": "text/x-python",
   "name": "python",
   "nbconvert_exporter": "python",
   "pygments_lexer": "ipython3",
   "version": "3.7.4"
  }
 },
 "nbformat": 4,
 "nbformat_minor": 2
}
